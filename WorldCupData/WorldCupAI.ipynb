{
 "cells": [
  {
   "attachments": {},
   "cell_type": "markdown",
   "metadata": {},
   "source": [
    "<b> PROBLEM </b>"
   ]
  },
  {
   "attachments": {},
   "cell_type": "markdown",
   "metadata": {},
   "source": [
    "4 yılda bir gerçekleşen bu futbol şöleni tüm dünya tarafından büyük bir ilgiyle takip edilmektedir ve bu turnuvayı izleyen seyircilerin turnuvadan bazı beklentileri olmaktadır. Desteklediği ülkenin şampiyon olması, futbolu futbol yapan anlar, estetik açısından güzel ve atılan bol goller bunlara örnek olarak verilebilir. Seyircilerin bu beklentileri bol gollü geçen maçlardan karşılanabilmektedir. Yıllar içinde format değiştiren dünya kupası gol sayılarında da değişiklik yaşamış mıdır ve ne gibi değişiklik yaşamıştır?"
   ]
  },
  {
   "attachments": {},
   "cell_type": "markdown",
   "metadata": {},
   "source": [
    "<b> VERİYİ ANLAMAK </b>"
   ]
  },
  {
   "attachments": {},
   "cell_type": "markdown",
   "metadata": {},
   "source": [
    "Kullandığımız veri kümesi açık kaynak bir veri kümesidir. Kaggle aracılığı ile projemize dahil ettik. Veri kümemiz 21 satır ve 9 sütundan oluşmaktadır. Format değişikliğinden dolayı gol sayılarına etki eden maç sayısı ve takım sayısı gibi etkenler de bulunmaktadır. Bu nedenle \"maç başına gol\" bizim hedef değişkenimizdir. Yani bu veri setini kullanarak tahmin etmek istediğimiz değerdir."
   ]
  },
  {
   "attachments": {},
   "cell_type": "markdown",
   "metadata": {},
   "source": [
    "<b> VERİ SETİNE GENEL BİR BAKIŞ </b>"
   ]
  },
  {
   "cell_type": "code",
   "execution_count": 63,
   "metadata": {},
   "outputs": [],
   "source": [
    "import numpy as np\n",
    "import math\n",
    "import pandas as pd\n",
    "import seaborn as sns\n",
    "import matplotlib.pyplot as plt\n",
    "from sklearn.model_selection import train_test_split\n",
    "from sklearn.linear_model import LinearRegression, Ridge, Lasso\n",
    "from sklearn import metrics"
   ]
  },
  {
   "attachments": {},
   "cell_type": "markdown",
   "metadata": {},
   "source": [
    "İlk olarak kullanacağımız kütüphaneleri projemize dahil ettik."
   ]
  },
  {
   "cell_type": "code",
   "execution_count": 64,
   "metadata": {},
   "outputs": [],
   "source": [
    "df = pd.read_csv('FIFA - World Cup Summary.csv')"
   ]
  },
  {
   "attachments": {},
   "cell_type": "markdown",
   "metadata": {},
   "source": [
    "Veri setimizi Visual Studio Code ortamına aktardık."
   ]
  },
  {
   "cell_type": "code",
   "execution_count": 65,
   "metadata": {},
   "outputs": [
    {
     "data": {
      "text/html": [
       "<div>\n",
       "<style scoped>\n",
       "    .dataframe tbody tr th:only-of-type {\n",
       "        vertical-align: middle;\n",
       "    }\n",
       "\n",
       "    .dataframe tbody tr th {\n",
       "        vertical-align: top;\n",
       "    }\n",
       "\n",
       "    .dataframe thead th {\n",
       "        text-align: right;\n",
       "    }\n",
       "</style>\n",
       "<table border=\"1\" class=\"dataframe\">\n",
       "  <thead>\n",
       "    <tr style=\"text-align: right;\">\n",
       "      <th></th>\n",
       "      <th>YEAR</th>\n",
       "      <th>HOST</th>\n",
       "      <th>CHAMPION</th>\n",
       "      <th>RUNNER UP</th>\n",
       "      <th>THIRD PLACE</th>\n",
       "      <th>TEAMS</th>\n",
       "      <th>MATCHES PLAYED</th>\n",
       "      <th>GOALS SCORED</th>\n",
       "      <th>AVG GOALS PER GAME</th>\n",
       "    </tr>\n",
       "  </thead>\n",
       "  <tbody>\n",
       "    <tr>\n",
       "      <th>0</th>\n",
       "      <td>1930</td>\n",
       "      <td>Uruguay</td>\n",
       "      <td>Uruguay</td>\n",
       "      <td>Argentina</td>\n",
       "      <td>United States</td>\n",
       "      <td>13</td>\n",
       "      <td>16</td>\n",
       "      <td>70</td>\n",
       "      <td>3.6</td>\n",
       "    </tr>\n",
       "    <tr>\n",
       "      <th>1</th>\n",
       "      <td>1934</td>\n",
       "      <td>Italy</td>\n",
       "      <td>Italy</td>\n",
       "      <td>Czechoslovakia</td>\n",
       "      <td>Germany</td>\n",
       "      <td>16</td>\n",
       "      <td>17</td>\n",
       "      <td>70</td>\n",
       "      <td>4.1</td>\n",
       "    </tr>\n",
       "    <tr>\n",
       "      <th>2</th>\n",
       "      <td>1938</td>\n",
       "      <td>France</td>\n",
       "      <td>Italy</td>\n",
       "      <td>Hungary</td>\n",
       "      <td>Brazil</td>\n",
       "      <td>15</td>\n",
       "      <td>18</td>\n",
       "      <td>84</td>\n",
       "      <td>4.7</td>\n",
       "    </tr>\n",
       "    <tr>\n",
       "      <th>3</th>\n",
       "      <td>1950</td>\n",
       "      <td>Brazil</td>\n",
       "      <td>Uruguay</td>\n",
       "      <td>Brazil</td>\n",
       "      <td>Sweden</td>\n",
       "      <td>13</td>\n",
       "      <td>22</td>\n",
       "      <td>88</td>\n",
       "      <td>4.0</td>\n",
       "    </tr>\n",
       "    <tr>\n",
       "      <th>4</th>\n",
       "      <td>1954</td>\n",
       "      <td>Switzerland</td>\n",
       "      <td>West Germany</td>\n",
       "      <td>Hungary</td>\n",
       "      <td>Austria</td>\n",
       "      <td>16</td>\n",
       "      <td>26</td>\n",
       "      <td>140</td>\n",
       "      <td>5.4</td>\n",
       "    </tr>\n",
       "  </tbody>\n",
       "</table>\n",
       "</div>"
      ],
      "text/plain": [
       "   YEAR         HOST      CHAMPION       RUNNER UP    THIRD PLACE  TEAMS  \\\n",
       "0  1930      Uruguay       Uruguay       Argentina  United States     13   \n",
       "1  1934        Italy         Italy  Czechoslovakia        Germany     16   \n",
       "2  1938       France         Italy         Hungary         Brazil     15   \n",
       "3  1950       Brazil       Uruguay          Brazil         Sweden     13   \n",
       "4  1954  Switzerland  West Germany         Hungary        Austria     16   \n",
       "\n",
       "   MATCHES PLAYED  GOALS SCORED  AVG GOALS PER GAME  \n",
       "0              16            70                 3.6  \n",
       "1              17            70                 4.1  \n",
       "2              18            84                 4.7  \n",
       "3              22            88                 4.0  \n",
       "4              26           140                 5.4  "
      ]
     },
     "execution_count": 65,
     "metadata": {},
     "output_type": "execute_result"
    }
   ],
   "source": [
    "df.head()"
   ]
  },
  {
   "attachments": {},
   "cell_type": "markdown",
   "metadata": {},
   "source": [
    "df.head() komutu ile veri kümemizdeki ilk 5 satırı gösterdik."
   ]
  },
  {
   "cell_type": "code",
   "execution_count": 66,
   "metadata": {},
   "outputs": [
    {
     "data": {
      "text/plain": [
       "(21, 9)"
      ]
     },
     "execution_count": 66,
     "metadata": {},
     "output_type": "execute_result"
    }
   ],
   "source": [
    "df.shape"
   ]
  },
  {
   "attachments": {},
   "cell_type": "markdown",
   "metadata": {},
   "source": [
    "df.shape komutu ile veri kümemizdeki satır ve sütun sayısını gösterdik."
   ]
  },
  {
   "cell_type": "code",
   "execution_count": 67,
   "metadata": {},
   "outputs": [
    {
     "data": {
      "text/plain": [
       "YEAR                    int64\n",
       "HOST                   object\n",
       "CHAMPION               object\n",
       "RUNNER UP              object\n",
       "THIRD PLACE            object\n",
       "TEAMS                   int64\n",
       "MATCHES PLAYED          int64\n",
       "GOALS SCORED            int64\n",
       "AVG GOALS PER GAME    float64\n",
       "dtype: object"
      ]
     },
     "execution_count": 67,
     "metadata": {},
     "output_type": "execute_result"
    }
   ],
   "source": [
    "df.dtypes"
   ]
  },
  {
   "attachments": {},
   "cell_type": "markdown",
   "metadata": {},
   "source": [
    "df.dtypes komutu ile veri setimizde bulunan sütunların hangi türden veriler olduğunu gösterdik."
   ]
  },
  {
   "attachments": {},
   "cell_type": "markdown",
   "metadata": {},
   "source": [
    "<b>VERİ TEMİZLEME</b>"
   ]
  },
  {
   "cell_type": "code",
   "execution_count": 68,
   "metadata": {},
   "outputs": [
    {
     "data": {
      "text/html": [
       "<div>\n",
       "<style scoped>\n",
       "    .dataframe tbody tr th:only-of-type {\n",
       "        vertical-align: middle;\n",
       "    }\n",
       "\n",
       "    .dataframe tbody tr th {\n",
       "        vertical-align: top;\n",
       "    }\n",
       "\n",
       "    .dataframe thead th {\n",
       "        text-align: right;\n",
       "    }\n",
       "</style>\n",
       "<table border=\"1\" class=\"dataframe\">\n",
       "  <thead>\n",
       "    <tr style=\"text-align: right;\">\n",
       "      <th></th>\n",
       "      <th>YEAR</th>\n",
       "      <th>HOST</th>\n",
       "      <th>CHAMPION</th>\n",
       "      <th>RUNNER UP</th>\n",
       "      <th>THIRD PLACE</th>\n",
       "      <th>TEAMS</th>\n",
       "      <th>MATCHES PLAYED</th>\n",
       "      <th>GOALS SCORED</th>\n",
       "      <th>AVG GOALS PER GAME</th>\n",
       "    </tr>\n",
       "  </thead>\n",
       "  <tbody>\n",
       "  </tbody>\n",
       "</table>\n",
       "</div>"
      ],
      "text/plain": [
       "Empty DataFrame\n",
       "Columns: [YEAR, HOST, CHAMPION, RUNNER UP, THIRD PLACE, TEAMS, MATCHES PLAYED, GOALS SCORED, AVG GOALS PER GAME]\n",
       "Index: []"
      ]
     },
     "execution_count": 68,
     "metadata": {},
     "output_type": "execute_result"
    }
   ],
   "source": [
    "nan_fifa = df[df.isna().any(axis = 1)]\n",
    "nan_fifa"
   ]
  },
  {
   "attachments": {},
   "cell_type": "markdown",
   "metadata": {},
   "source": [
    "Burada veri setimizde boş bir veri değeri bulunup bulunmadığını kontrol ettik ve herhangi bir boş satır olmadığını gördük."
   ]
  },
  {
   "cell_type": "code",
   "execution_count": 69,
   "metadata": {},
   "outputs": [
    {
     "data": {
      "text/plain": [
       "Index(['YEAR', 'HOST', 'CHAMPION', 'RUNNER UP', 'THIRD PLACE', 'TEAMS',\n",
       "       'MATCHES PLAYED', 'GOALS SCORED', 'AVG GOALS PER GAME'],\n",
       "      dtype='object')"
      ]
     },
     "execution_count": 69,
     "metadata": {},
     "output_type": "execute_result"
    }
   ],
   "source": [
    "df.columns"
   ]
  },
  {
   "attachments": {},
   "cell_type": "markdown",
   "metadata": {},
   "source": [
    "Veri setimizdeki sütunları yazdırdık. Sütun başlıklarında boşluk olduğunu gördük."
   ]
  },
  {
   "cell_type": "code",
   "execution_count": 70,
   "metadata": {},
   "outputs": [],
   "source": [
    "df.columns = df.columns.str.replace(\" \",\"_\")"
   ]
  },
  {
   "attachments": {},
   "cell_type": "markdown",
   "metadata": {},
   "source": [
    "Sütundaki bu boşlukları replace komutu ile \" _ \" haline getirdik. Böylece veri temizleme işlemini gerçekleştirdik."
   ]
  },
  {
   "cell_type": "code",
   "execution_count": 71,
   "metadata": {},
   "outputs": [
    {
     "data": {
      "text/plain": [
       "Index(['YEAR', 'HOST', 'CHAMPION', 'RUNNER_UP', 'THIRD_PLACE', 'TEAMS',\n",
       "       'MATCHES_PLAYED', 'GOALS_SCORED', 'AVG_GOALS_PER_GAME'],\n",
       "      dtype='object')"
      ]
     },
     "execution_count": 71,
     "metadata": {},
     "output_type": "execute_result"
    }
   ],
   "source": [
    "df.columns"
   ]
  },
  {
   "attachments": {},
   "cell_type": "markdown",
   "metadata": {},
   "source": [
    "Sütunlarımızı tekrar yazdırarak kontrol ettik."
   ]
  },
  {
   "cell_type": "code",
   "execution_count": 72,
   "metadata": {},
   "outputs": [
    {
     "data": {
      "text/html": [
       "<div>\n",
       "<style scoped>\n",
       "    .dataframe tbody tr th:only-of-type {\n",
       "        vertical-align: middle;\n",
       "    }\n",
       "\n",
       "    .dataframe tbody tr th {\n",
       "        vertical-align: top;\n",
       "    }\n",
       "\n",
       "    .dataframe thead th {\n",
       "        text-align: right;\n",
       "    }\n",
       "</style>\n",
       "<table border=\"1\" class=\"dataframe\">\n",
       "  <thead>\n",
       "    <tr style=\"text-align: right;\">\n",
       "      <th></th>\n",
       "      <th>YEAR</th>\n",
       "      <th>TEAMS</th>\n",
       "      <th>MATCHES_PLAYED</th>\n",
       "      <th>GOALS_SCORED</th>\n",
       "      <th>AVG_GOALS_PER_GAME</th>\n",
       "    </tr>\n",
       "  </thead>\n",
       "  <tbody>\n",
       "    <tr>\n",
       "      <th>count</th>\n",
       "      <td>21.000000</td>\n",
       "      <td>21.000000</td>\n",
       "      <td>21.000000</td>\n",
       "      <td>21.000000</td>\n",
       "      <td>21.000000</td>\n",
       "    </tr>\n",
       "    <tr>\n",
       "      <th>mean</th>\n",
       "      <td>1976.857143</td>\n",
       "      <td>21.761905</td>\n",
       "      <td>42.761905</td>\n",
       "      <td>121.333333</td>\n",
       "      <td>3.076190</td>\n",
       "    </tr>\n",
       "    <tr>\n",
       "      <th>std</th>\n",
       "      <td>26.657618</td>\n",
       "      <td>7.462605</td>\n",
       "      <td>17.615064</td>\n",
       "      <td>33.943090</td>\n",
       "      <td>0.847883</td>\n",
       "    </tr>\n",
       "    <tr>\n",
       "      <th>min</th>\n",
       "      <td>1930.000000</td>\n",
       "      <td>13.000000</td>\n",
       "      <td>16.000000</td>\n",
       "      <td>70.000000</td>\n",
       "      <td>2.200000</td>\n",
       "    </tr>\n",
       "    <tr>\n",
       "      <th>25%</th>\n",
       "      <td>1958.000000</td>\n",
       "      <td>16.000000</td>\n",
       "      <td>32.000000</td>\n",
       "      <td>89.000000</td>\n",
       "      <td>2.600000</td>\n",
       "    </tr>\n",
       "    <tr>\n",
       "      <th>50%</th>\n",
       "      <td>1978.000000</td>\n",
       "      <td>16.000000</td>\n",
       "      <td>38.000000</td>\n",
       "      <td>126.000000</td>\n",
       "      <td>2.700000</td>\n",
       "    </tr>\n",
       "    <tr>\n",
       "      <th>75%</th>\n",
       "      <td>1998.000000</td>\n",
       "      <td>32.000000</td>\n",
       "      <td>64.000000</td>\n",
       "      <td>146.000000</td>\n",
       "      <td>3.600000</td>\n",
       "    </tr>\n",
       "    <tr>\n",
       "      <th>max</th>\n",
       "      <td>2018.000000</td>\n",
       "      <td>32.000000</td>\n",
       "      <td>64.000000</td>\n",
       "      <td>171.000000</td>\n",
       "      <td>5.400000</td>\n",
       "    </tr>\n",
       "  </tbody>\n",
       "</table>\n",
       "</div>"
      ],
      "text/plain": [
       "              YEAR      TEAMS  MATCHES_PLAYED  GOALS_SCORED  \\\n",
       "count    21.000000  21.000000       21.000000     21.000000   \n",
       "mean   1976.857143  21.761905       42.761905    121.333333   \n",
       "std      26.657618   7.462605       17.615064     33.943090   \n",
       "min    1930.000000  13.000000       16.000000     70.000000   \n",
       "25%    1958.000000  16.000000       32.000000     89.000000   \n",
       "50%    1978.000000  16.000000       38.000000    126.000000   \n",
       "75%    1998.000000  32.000000       64.000000    146.000000   \n",
       "max    2018.000000  32.000000       64.000000    171.000000   \n",
       "\n",
       "       AVG_GOALS_PER_GAME  \n",
       "count           21.000000  \n",
       "mean             3.076190  \n",
       "std              0.847883  \n",
       "min              2.200000  \n",
       "25%              2.600000  \n",
       "50%              2.700000  \n",
       "75%              3.600000  \n",
       "max              5.400000  "
      ]
     },
     "execution_count": 72,
     "metadata": {},
     "output_type": "execute_result"
    }
   ],
   "source": [
    "df.describe()"
   ]
  },
  {
   "attachments": {},
   "cell_type": "markdown",
   "metadata": {},
   "source": [
    "Her bir sütundaki verilerin dağılımı hakkında istatistiksel bilgi edinmek için describe() metodunu kullandık."
   ]
  },
  {
   "cell_type": "code",
   "execution_count": 73,
   "metadata": {},
   "outputs": [
    {
     "data": {
      "text/html": [
       "<div>\n",
       "<style scoped>\n",
       "    .dataframe tbody tr th:only-of-type {\n",
       "        vertical-align: middle;\n",
       "    }\n",
       "\n",
       "    .dataframe tbody tr th {\n",
       "        vertical-align: top;\n",
       "    }\n",
       "\n",
       "    .dataframe thead th {\n",
       "        text-align: right;\n",
       "    }\n",
       "</style>\n",
       "<table border=\"1\" class=\"dataframe\">\n",
       "  <thead>\n",
       "    <tr style=\"text-align: right;\">\n",
       "      <th></th>\n",
       "      <th>YEAR</th>\n",
       "      <th>TEAMS</th>\n",
       "      <th>MATCHES_PLAYED</th>\n",
       "      <th>GOALS_SCORED</th>\n",
       "      <th>AVG_GOALS_PER_GAME</th>\n",
       "    </tr>\n",
       "  </thead>\n",
       "  <tbody>\n",
       "    <tr>\n",
       "      <th>YEAR</th>\n",
       "      <td>1.000000</td>\n",
       "      <td>0.906397</td>\n",
       "      <td>0.973888</td>\n",
       "      <td>0.848767</td>\n",
       "      <td>-0.751623</td>\n",
       "    </tr>\n",
       "    <tr>\n",
       "      <th>TEAMS</th>\n",
       "      <td>0.906397</td>\n",
       "      <td>1.000000</td>\n",
       "      <td>0.951589</td>\n",
       "      <td>0.879708</td>\n",
       "      <td>-0.604663</td>\n",
       "    </tr>\n",
       "    <tr>\n",
       "      <th>MATCHES_PLAYED</th>\n",
       "      <td>0.973888</td>\n",
       "      <td>0.951589</td>\n",
       "      <td>1.000000</td>\n",
       "      <td>0.887481</td>\n",
       "      <td>-0.745603</td>\n",
       "    </tr>\n",
       "    <tr>\n",
       "      <th>GOALS_SCORED</th>\n",
       "      <td>0.848767</td>\n",
       "      <td>0.879708</td>\n",
       "      <td>0.887481</td>\n",
       "      <td>1.000000</td>\n",
       "      <td>-0.386267</td>\n",
       "    </tr>\n",
       "    <tr>\n",
       "      <th>AVG_GOALS_PER_GAME</th>\n",
       "      <td>-0.751623</td>\n",
       "      <td>-0.604663</td>\n",
       "      <td>-0.745603</td>\n",
       "      <td>-0.386267</td>\n",
       "      <td>1.000000</td>\n",
       "    </tr>\n",
       "  </tbody>\n",
       "</table>\n",
       "</div>"
      ],
      "text/plain": [
       "                        YEAR     TEAMS  MATCHES_PLAYED  GOALS_SCORED  \\\n",
       "YEAR                1.000000  0.906397        0.973888      0.848767   \n",
       "TEAMS               0.906397  1.000000        0.951589      0.879708   \n",
       "MATCHES_PLAYED      0.973888  0.951589        1.000000      0.887481   \n",
       "GOALS_SCORED        0.848767  0.879708        0.887481      1.000000   \n",
       "AVG_GOALS_PER_GAME -0.751623 -0.604663       -0.745603     -0.386267   \n",
       "\n",
       "                    AVG_GOALS_PER_GAME  \n",
       "YEAR                         -0.751623  \n",
       "TEAMS                        -0.604663  \n",
       "MATCHES_PLAYED               -0.745603  \n",
       "GOALS_SCORED                 -0.386267  \n",
       "AVG_GOALS_PER_GAME            1.000000  "
      ]
     },
     "execution_count": 73,
     "metadata": {},
     "output_type": "execute_result"
    }
   ],
   "source": [
    "df.corr()"
   ]
  },
  {
   "attachments": {},
   "cell_type": "markdown",
   "metadata": {},
   "source": [
    "Sütun başlıklarımızın kendi içerisindeki bağıntıyı anlayabilmek için korelasyon yaptık. Böylece hangi sütun başlıklarının birbiriyle bağıntılı olduğunu yorumlayabilir hale geldik."
   ]
  },
  {
   "cell_type": "code",
   "execution_count": 74,
   "metadata": {},
   "outputs": [
    {
     "data": {
      "image/png": "[encoded data removed]",
      "text/plain": [
       "<Figure size 576x432 with 2 Axes>"
      ]
     },
     "metadata": {},
     "output_type": "display_data"
    }
   ],
   "source": [
    "plt.figure(figsize = (8,6))\n",
    "sns.heatmap(df.corr(), annot = True, cmap = 'viridis')\n",
    "plt.title('Pearson Correlation', fontsize = 15, pad = 12, color = 'b')\n",
    "plt.show()"
   ]
  },
  {
   "attachments": {},
   "cell_type": "markdown",
   "metadata": {},
   "source": [
    "Bu bilgiyi heatmap ile görselleştirdik."
   ]
  },
  {
   "cell_type": "code",
   "execution_count": 75,
   "metadata": {},
   "outputs": [
    {
     "data": {
      "text/html": [
       "<div>\n",
       "<style scoped>\n",
       "    .dataframe tbody tr th:only-of-type {\n",
       "        vertical-align: middle;\n",
       "    }\n",
       "\n",
       "    .dataframe tbody tr th {\n",
       "        vertical-align: top;\n",
       "    }\n",
       "\n",
       "    .dataframe thead th {\n",
       "        text-align: right;\n",
       "    }\n",
       "</style>\n",
       "<table border=\"1\" class=\"dataframe\">\n",
       "  <thead>\n",
       "    <tr style=\"text-align: right;\">\n",
       "      <th></th>\n",
       "      <th></th>\n",
       "      <th></th>\n",
       "      <th></th>\n",
       "      <th></th>\n",
       "      <th>GOALS_SCORED</th>\n",
       "    </tr>\n",
       "    <tr>\n",
       "      <th>YEAR</th>\n",
       "      <th>HOST</th>\n",
       "      <th>CHAMPION</th>\n",
       "      <th>RUNNER_UP</th>\n",
       "      <th>THIRD_PLACE</th>\n",
       "      <th></th>\n",
       "    </tr>\n",
       "  </thead>\n",
       "  <tbody>\n",
       "    <tr>\n",
       "      <th>2014</th>\n",
       "      <th>Brazil</th>\n",
       "      <th>Germany</th>\n",
       "      <th>Argentina</th>\n",
       "      <th>Netherlands</th>\n",
       "      <td>171</td>\n",
       "    </tr>\n",
       "    <tr>\n",
       "      <th>1998</th>\n",
       "      <th>France</th>\n",
       "      <th>France</th>\n",
       "      <th>Brazil</th>\n",
       "      <th>Croatia</th>\n",
       "      <td>171</td>\n",
       "    </tr>\n",
       "    <tr>\n",
       "      <th>2018</th>\n",
       "      <th>Russia</th>\n",
       "      <th>France</th>\n",
       "      <th>Croatia</th>\n",
       "      <th>Belgium</th>\n",
       "      <td>169</td>\n",
       "    </tr>\n",
       "    <tr>\n",
       "      <th>2002</th>\n",
       "      <th>South Korea, Japan</th>\n",
       "      <th>Brazil</th>\n",
       "      <th>Germany</th>\n",
       "      <th>Turkey</th>\n",
       "      <td>161</td>\n",
       "    </tr>\n",
       "    <tr>\n",
       "      <th>2006</th>\n",
       "      <th>Germany</th>\n",
       "      <th>Italy</th>\n",
       "      <th>France</th>\n",
       "      <th>Germany</th>\n",
       "      <td>147</td>\n",
       "    </tr>\n",
       "    <tr>\n",
       "      <th>1982</th>\n",
       "      <th>Spain</th>\n",
       "      <th>Italy</th>\n",
       "      <th>West Germany</th>\n",
       "      <th>Poland</th>\n",
       "      <td>146</td>\n",
       "    </tr>\n",
       "    <tr>\n",
       "      <th>2010</th>\n",
       "      <th>South Africa</th>\n",
       "      <th>Spain</th>\n",
       "      <th>Netherlands</th>\n",
       "      <th>Germany</th>\n",
       "      <td>145</td>\n",
       "    </tr>\n",
       "    <tr>\n",
       "      <th>1994</th>\n",
       "      <th>United States</th>\n",
       "      <th>Brazil</th>\n",
       "      <th>Italy</th>\n",
       "      <th>Sweden</th>\n",
       "      <td>141</td>\n",
       "    </tr>\n",
       "    <tr>\n",
       "      <th>1954</th>\n",
       "      <th>Switzerland</th>\n",
       "      <th>West Germany</th>\n",
       "      <th>Hungary</th>\n",
       "      <th>Austria</th>\n",
       "      <td>140</td>\n",
       "    </tr>\n",
       "    <tr>\n",
       "      <th>1986</th>\n",
       "      <th>Mexico</th>\n",
       "      <th>Argentina</th>\n",
       "      <th>West Germany</th>\n",
       "      <th>France</th>\n",
       "      <td>132</td>\n",
       "    </tr>\n",
       "    <tr>\n",
       "      <th>1958</th>\n",
       "      <th>Sweden</th>\n",
       "      <th>Brazil</th>\n",
       "      <th>Sweden</th>\n",
       "      <th>France</th>\n",
       "      <td>126</td>\n",
       "    </tr>\n",
       "    <tr>\n",
       "      <th>1990</th>\n",
       "      <th>Italy</th>\n",
       "      <th>West Germany</th>\n",
       "      <th>Argentina</th>\n",
       "      <th>Italy</th>\n",
       "      <td>115</td>\n",
       "    </tr>\n",
       "    <tr>\n",
       "      <th>1978</th>\n",
       "      <th>Argentina</th>\n",
       "      <th>Argentina</th>\n",
       "      <th>Netherlands</th>\n",
       "      <th>Brazil</th>\n",
       "      <td>102</td>\n",
       "    </tr>\n",
       "    <tr>\n",
       "      <th>1974</th>\n",
       "      <th>West Germany</th>\n",
       "      <th>West Germany</th>\n",
       "      <th>Netherlands</th>\n",
       "      <th>Poland</th>\n",
       "      <td>97</td>\n",
       "    </tr>\n",
       "    <tr>\n",
       "      <th>1970</th>\n",
       "      <th>Mexico</th>\n",
       "      <th>Brazil</th>\n",
       "      <th>Italy</th>\n",
       "      <th>West Germany</th>\n",
       "      <td>95</td>\n",
       "    </tr>\n",
       "    <tr>\n",
       "      <th>1966</th>\n",
       "      <th>England</th>\n",
       "      <th>England</th>\n",
       "      <th>West Germany</th>\n",
       "      <th>Portugal</th>\n",
       "      <td>89</td>\n",
       "    </tr>\n",
       "    <tr>\n",
       "      <th>1962</th>\n",
       "      <th>Chile</th>\n",
       "      <th>Brazil</th>\n",
       "      <th>Czechoslovakia</th>\n",
       "      <th>Chile</th>\n",
       "      <td>89</td>\n",
       "    </tr>\n",
       "    <tr>\n",
       "      <th>1950</th>\n",
       "      <th>Brazil</th>\n",
       "      <th>Uruguay</th>\n",
       "      <th>Brazil</th>\n",
       "      <th>Sweden</th>\n",
       "      <td>88</td>\n",
       "    </tr>\n",
       "    <tr>\n",
       "      <th>1938</th>\n",
       "      <th>France</th>\n",
       "      <th>Italy</th>\n",
       "      <th>Hungary</th>\n",
       "      <th>Brazil</th>\n",
       "      <td>84</td>\n",
       "    </tr>\n",
       "    <tr>\n",
       "      <th>1934</th>\n",
       "      <th>Italy</th>\n",
       "      <th>Italy</th>\n",
       "      <th>Czechoslovakia</th>\n",
       "      <th>Germany</th>\n",
       "      <td>70</td>\n",
       "    </tr>\n",
       "    <tr>\n",
       "      <th>1930</th>\n",
       "      <th>Uruguay</th>\n",
       "      <th>Uruguay</th>\n",
       "      <th>Argentina</th>\n",
       "      <th>United States</th>\n",
       "      <td>70</td>\n",
       "    </tr>\n",
       "  </tbody>\n",
       "</table>\n",
       "</div>"
      ],
      "text/plain": [
       "                                                                   GOALS_SCORED\n",
       "YEAR HOST               CHAMPION     RUNNER_UP      THIRD_PLACE                \n",
       "2014 Brazil             Germany      Argentina      Netherlands             171\n",
       "1998 France             France       Brazil         Croatia                 171\n",
       "2018 Russia             France       Croatia        Belgium                 169\n",
       "2002 South Korea, Japan Brazil       Germany        Turkey                  161\n",
       "2006 Germany            Italy        France         Germany                 147\n",
       "1982 Spain              Italy        West Germany   Poland                  146\n",
       "2010 South Africa       Spain        Netherlands    Germany                 145\n",
       "1994 United States      Brazil       Italy          Sweden                  141\n",
       "1954 Switzerland        West Germany Hungary        Austria                 140\n",
       "1986 Mexico             Argentina    West Germany   France                  132\n",
       "1958 Sweden             Brazil       Sweden         France                  126\n",
       "1990 Italy              West Germany Argentina      Italy                   115\n",
       "1978 Argentina          Argentina    Netherlands    Brazil                  102\n",
       "1974 West Germany       West Germany Netherlands    Poland                   97\n",
       "1970 Mexico             Brazil       Italy          West Germany             95\n",
       "1966 England            England      West Germany   Portugal                 89\n",
       "1962 Chile              Brazil       Czechoslovakia Chile                    89\n",
       "1950 Brazil             Uruguay      Brazil         Sweden                   88\n",
       "1938 France             Italy        Hungary        Brazil                   84\n",
       "1934 Italy              Italy        Czechoslovakia Germany                  70\n",
       "1930 Uruguay            Uruguay      Argentina      United States            70"
      ]
     },
     "execution_count": 75,
     "metadata": {},
     "output_type": "execute_result"
    }
   ],
   "source": [
    "pd.pivot_table(df, index = ['YEAR', 'HOST', 'CHAMPION', 'RUNNER_UP', 'THIRD_PLACE'], values = 'GOALS_SCORED', \n",
    "              aggfunc = {'GOALS_SCORED' : np.sum}).sort_values('GOALS_SCORED', ascending = False)"
   ]
  },
  {
   "attachments": {},
   "cell_type": "markdown",
   "metadata": {},
   "source": [
    "Şimdiye kadar gerçekleşen dünya kupası turnuvalarında en gollü geçen turnuvadan en az gollü geçen turnuvaya doğru sıraladık. İnişli çıkışlı bir istatistik olacağını öngörüyoruz."
   ]
  },
  {
   "cell_type": "code",
   "execution_count": 76,
   "metadata": {},
   "outputs": [
    {
     "data": {
      "image/png": "[encoded data removed]",
      "text/plain": [
       "<Figure size 1080x360 with 1 Axes>"
      ]
     },
     "metadata": {},
     "output_type": "display_data"
    }
   ],
   "source": [
    "plt.figure(figsize=(15,5))\n",
    "sns.lineplot(x='YEAR',y='GOALS_SCORED',data=df)\n",
    "plt.title('Yıllara göre gol')\n",
    "plt.xlabel('YEARS')\n",
    "plt.ylabel('GOALS')\n",
    "plt.show()"
   ]
  },
  {
   "attachments": {},
   "cell_type": "markdown",
   "metadata": {},
   "source": [
    "Bir önceki satırda yazdırdığımız çıktıyı bu şekilde yorumlamak daha kolay olduğu için çizgi grafiğinde gösterdik. Tahmin ettiğimiz gibi yıllar içinde inişli çıkışlı bir grafik çizmiş olsa da gol sayısında bir artış olduğunu söylemek mümkün diyebiliriz."
   ]
  },
  {
   "cell_type": "code",
   "execution_count": 77,
   "metadata": {},
   "outputs": [
    {
     "data": {
      "image/png": "[encoded data removed]",
      "text/plain": [
       "<Figure size 1080x360 with 1 Axes>"
      ]
     },
     "metadata": {},
     "output_type": "display_data"
    }
   ],
   "source": [
    "plt.figure(figsize=(15,5))\n",
    "sns.lineplot(x='YEAR',y='MATCHES_PLAYED',data=df)\n",
    "plt.title('Yıllara göre maç sayıları')\n",
    "plt.xlabel('YEARS')\n",
    "plt.ylabel('MATCHES')\n",
    "plt.show()"
   ]
  },
  {
   "attachments": {},
   "cell_type": "markdown",
   "metadata": {},
   "source": [
    "Yıllar içinde turnuvalarda oynanan maç sayılarının çizgi grafiği. Dünya kupası formatı yıllar içinde değiştiği için katılan takım sayısı ve dolayısıyla oynanan maç sayısında da değişim gerçekleşmiştir. Bunu bu çizgi grafiği ile yorumlamak mümkündür. Oynanan maç sayılarında artış bulunmaktadır. Bu artış gol sayılarına doğrudan etki etmektedir. Tahmin ettiğimiz gibi gol sayılarını tek başına yorumlamak mümkün değildir. Bu nedenle bizim hedef değişkenimiz \"Ortalama maç başına gol\" değeridir."
   ]
  },
  {
   "cell_type": "code",
   "execution_count": 78,
   "metadata": {},
   "outputs": [
    {
     "data": {
      "image/png": "[encoded data removed]",
      "text/plain": [
       "<Figure size 1080x360 with 1 Axes>"
      ]
     },
     "metadata": {},
     "output_type": "display_data"
    }
   ],
   "source": [
    "plt.figure(figsize=(15,5))\n",
    "sns.lineplot(x='YEAR',y='AVG_GOALS_PER_GAME',data=df)\n",
    "plt.title('Yıllara göre maç başına gol')\n",
    "plt.xlabel('YEARS')\n",
    "plt.ylabel('GOALS')\n",
    "plt.show()"
   ]
  },
  {
   "attachments": {},
   "cell_type": "markdown",
   "metadata": {},
   "source": [
    "Bir üstteki satırda yorumladığımız gibi gol sayılarında ve oynanan maç sayılarında artış bulunmaktaydı ancak ortalama maç başına gol grafiğini yazdırdığımızda bu grafiğin düşüş yaşadığını yani bir azalma söz konusu olduğunu söyleyebiliriz."
   ]
  },
  {
   "attachments": {},
   "cell_type": "markdown",
   "metadata": {},
   "source": [
    "<b> TAHMİN MODELİ OLUŞTURMA </b>"
   ]
  },
  {
   "cell_type": "code",
   "execution_count": 79,
   "metadata": {},
   "outputs": [
    {
     "data": {
      "text/html": [
       "<div>\n",
       "<style scoped>\n",
       "    .dataframe tbody tr th:only-of-type {\n",
       "        vertical-align: middle;\n",
       "    }\n",
       "\n",
       "    .dataframe tbody tr th {\n",
       "        vertical-align: top;\n",
       "    }\n",
       "\n",
       "    .dataframe thead th {\n",
       "        text-align: right;\n",
       "    }\n",
       "</style>\n",
       "<table border=\"1\" class=\"dataframe\">\n",
       "  <thead>\n",
       "    <tr style=\"text-align: right;\">\n",
       "      <th></th>\n",
       "      <th>YEAR</th>\n",
       "      <th>TEAMS</th>\n",
       "      <th>MATCHES_PLAYED</th>\n",
       "      <th>GOALS_SCORED</th>\n",
       "      <th>AVG_GOALS_PER_GAME</th>\n",
       "      <th>HOST_Brazil</th>\n",
       "      <th>HOST_Chile</th>\n",
       "      <th>HOST_England</th>\n",
       "      <th>HOST_France</th>\n",
       "      <th>HOST_Germany</th>\n",
       "      <th>...</th>\n",
       "      <th>THIRD_PLACE_France</th>\n",
       "      <th>THIRD_PLACE_Germany</th>\n",
       "      <th>THIRD_PLACE_Italy</th>\n",
       "      <th>THIRD_PLACE_Netherlands</th>\n",
       "      <th>THIRD_PLACE_Poland</th>\n",
       "      <th>THIRD_PLACE_Portugal</th>\n",
       "      <th>THIRD_PLACE_Sweden</th>\n",
       "      <th>THIRD_PLACE_Turkey</th>\n",
       "      <th>THIRD_PLACE_United States</th>\n",
       "      <th>THIRD_PLACE_West Germany</th>\n",
       "    </tr>\n",
       "  </thead>\n",
       "  <tbody>\n",
       "    <tr>\n",
       "      <th>0</th>\n",
       "      <td>1930</td>\n",
       "      <td>13</td>\n",
       "      <td>16</td>\n",
       "      <td>70</td>\n",
       "      <td>3.6</td>\n",
       "      <td>0</td>\n",
       "      <td>0</td>\n",
       "      <td>0</td>\n",
       "      <td>0</td>\n",
       "      <td>0</td>\n",
       "      <td>...</td>\n",
       "      <td>0</td>\n",
       "      <td>0</td>\n",
       "      <td>0</td>\n",
       "      <td>0</td>\n",
       "      <td>0</td>\n",
       "      <td>0</td>\n",
       "      <td>0</td>\n",
       "      <td>0</td>\n",
       "      <td>1</td>\n",
       "      <td>0</td>\n",
       "    </tr>\n",
       "    <tr>\n",
       "      <th>1</th>\n",
       "      <td>1934</td>\n",
       "      <td>16</td>\n",
       "      <td>17</td>\n",
       "      <td>70</td>\n",
       "      <td>4.1</td>\n",
       "      <td>0</td>\n",
       "      <td>0</td>\n",
       "      <td>0</td>\n",
       "      <td>0</td>\n",
       "      <td>0</td>\n",
       "      <td>...</td>\n",
       "      <td>0</td>\n",
       "      <td>1</td>\n",
       "      <td>0</td>\n",
       "      <td>0</td>\n",
       "      <td>0</td>\n",
       "      <td>0</td>\n",
       "      <td>0</td>\n",
       "      <td>0</td>\n",
       "      <td>0</td>\n",
       "      <td>0</td>\n",
       "    </tr>\n",
       "    <tr>\n",
       "      <th>2</th>\n",
       "      <td>1938</td>\n",
       "      <td>15</td>\n",
       "      <td>18</td>\n",
       "      <td>84</td>\n",
       "      <td>4.7</td>\n",
       "      <td>0</td>\n",
       "      <td>0</td>\n",
       "      <td>0</td>\n",
       "      <td>1</td>\n",
       "      <td>0</td>\n",
       "      <td>...</td>\n",
       "      <td>0</td>\n",
       "      <td>0</td>\n",
       "      <td>0</td>\n",
       "      <td>0</td>\n",
       "      <td>0</td>\n",
       "      <td>0</td>\n",
       "      <td>0</td>\n",
       "      <td>0</td>\n",
       "      <td>0</td>\n",
       "      <td>0</td>\n",
       "    </tr>\n",
       "    <tr>\n",
       "      <th>3</th>\n",
       "      <td>1950</td>\n",
       "      <td>13</td>\n",
       "      <td>22</td>\n",
       "      <td>88</td>\n",
       "      <td>4.0</td>\n",
       "      <td>1</td>\n",
       "      <td>0</td>\n",
       "      <td>0</td>\n",
       "      <td>0</td>\n",
       "      <td>0</td>\n",
       "      <td>...</td>\n",
       "      <td>0</td>\n",
       "      <td>0</td>\n",
       "      <td>0</td>\n",
       "      <td>0</td>\n",
       "      <td>0</td>\n",
       "      <td>0</td>\n",
       "      <td>1</td>\n",
       "      <td>0</td>\n",
       "      <td>0</td>\n",
       "      <td>0</td>\n",
       "    </tr>\n",
       "    <tr>\n",
       "      <th>4</th>\n",
       "      <td>1954</td>\n",
       "      <td>16</td>\n",
       "      <td>26</td>\n",
       "      <td>140</td>\n",
       "      <td>5.4</td>\n",
       "      <td>0</td>\n",
       "      <td>0</td>\n",
       "      <td>0</td>\n",
       "      <td>0</td>\n",
       "      <td>0</td>\n",
       "      <td>...</td>\n",
       "      <td>0</td>\n",
       "      <td>0</td>\n",
       "      <td>0</td>\n",
       "      <td>0</td>\n",
       "      <td>0</td>\n",
       "      <td>0</td>\n",
       "      <td>0</td>\n",
       "      <td>0</td>\n",
       "      <td>0</td>\n",
       "      <td>0</td>\n",
       "    </tr>\n",
       "  </tbody>\n",
       "</table>\n",
       "<p>5 rows × 53 columns</p>\n",
       "</div>"
      ],
      "text/plain": [
       "   YEAR  TEAMS  MATCHES_PLAYED  GOALS_SCORED  AVG_GOALS_PER_GAME  HOST_Brazil  \\\n",
       "0  1930     13              16            70                 3.6            0   \n",
       "1  1934     16              17            70                 4.1            0   \n",
       "2  1938     15              18            84                 4.7            0   \n",
       "3  1950     13              22            88                 4.0            1   \n",
       "4  1954     16              26           140                 5.4            0   \n",
       "\n",
       "   HOST_Chile  HOST_England  HOST_France  HOST_Germany  ...  \\\n",
       "0           0             0            0             0  ...   \n",
       "1           0             0            0             0  ...   \n",
       "2           0             0            1             0  ...   \n",
       "3           0             0            0             0  ...   \n",
       "4           0             0            0             0  ...   \n",
       "\n",
       "   THIRD_PLACE_France  THIRD_PLACE_Germany  THIRD_PLACE_Italy  \\\n",
       "0                   0                    0                  0   \n",
       "1                   0                    1                  0   \n",
       "2                   0                    0                  0   \n",
       "3                   0                    0                  0   \n",
       "4                   0                    0                  0   \n",
       "\n",
       "   THIRD_PLACE_Netherlands  THIRD_PLACE_Poland  THIRD_PLACE_Portugal  \\\n",
       "0                        0                   0                     0   \n",
       "1                        0                   0                     0   \n",
       "2                        0                   0                     0   \n",
       "3                        0                   0                     0   \n",
       "4                        0                   0                     0   \n",
       "\n",
       "   THIRD_PLACE_Sweden  THIRD_PLACE_Turkey  THIRD_PLACE_United States  \\\n",
       "0                   0                   0                          1   \n",
       "1                   0                   0                          0   \n",
       "2                   0                   0                          0   \n",
       "3                   1                   0                          0   \n",
       "4                   0                   0                          0   \n",
       "\n",
       "   THIRD_PLACE_West Germany  \n",
       "0                         0  \n",
       "1                         0  \n",
       "2                         0  \n",
       "3                         0  \n",
       "4                         0  \n",
       "\n",
       "[5 rows x 53 columns]"
      ]
     },
     "execution_count": 79,
     "metadata": {},
     "output_type": "execute_result"
    }
   ],
   "source": [
    "df = pd.get_dummies(df, drop_first = True)\n",
    "df.head()"
   ]
  },
  {
   "attachments": {},
   "cell_type": "markdown",
   "metadata": {},
   "source": [
    "Kategoriksel verilerin handle edildiği adım."
   ]
  },
  {
   "cell_type": "code",
   "execution_count": 80,
   "metadata": {},
   "outputs": [
    {
     "name": "stdout",
     "output_type": "stream",
     "text": [
      "(14, 52)\n",
      "(14,)\n",
      "(7, 52)\n",
      "(7,)\n"
     ]
    }
   ],
   "source": [
    "X = df.drop('AVG_GOALS_PER_GAME', axis = 1)\n",
    "y = df['AVG_GOALS_PER_GAME']\n",
    "X_train, X_test, y_train, y_test = train_test_split(X, y, test_size = 0.3, random_state = 0)\n",
    "print(X_train.shape)\n",
    "print(y_train.shape)\n",
    "print(X_test.shape)\n",
    "print(y_test.shape)"
   ]
  },
  {
   "attachments": {},
   "cell_type": "markdown",
   "metadata": {},
   "source": [
    "Bir x ve y değişkeni tanımlayıp hedef değişkenimiz olan \"AVG_GOALS_PER_GAME\"'i diğer değişkenlerin yanından drop metodu ile çıkarıyoruz. Böylece bağımlı değişkenimizin diğer bağımsız değişkenlerle olan ilişkisini tahminlemek için uygun bir ortam yaratıyoruz. Daha sonra bir test yaratıp veriyi bölüyoruz."
   ]
  },
  {
   "cell_type": "code",
   "execution_count": 81,
   "metadata": {},
   "outputs": [
    {
     "name": "stdout",
     "output_type": "stream",
     "text": [
      "CPU times: total: 31.2 ms\n",
      "Wall time: 4.98 ms\n"
     ]
    },
    {
     "data": {
      "text/plain": [
       "0.8567563410860344"
      ]
     },
     "execution_count": 81,
     "metadata": {},
     "output_type": "execute_result"
    }
   ],
   "source": [
    "lr = LinearRegression()\n",
    "%time lr.fit(X_train, y_train)\n",
    "lr.score(X_test, y_test)"
   ]
  },
  {
   "attachments": {},
   "cell_type": "markdown",
   "metadata": {},
   "source": [
    "Linear Regresyon modeli başarı oranı hesaplama"
   ]
  },
  {
   "cell_type": "code",
   "execution_count": 82,
   "metadata": {},
   "outputs": [
    {
     "name": "stdout",
     "output_type": "stream",
     "text": [
      "CPU times: total: 0 ns\n",
      "Wall time: 3.99 ms\n"
     ]
    },
    {
     "data": {
      "text/plain": [
       "0.8694817686334616"
      ]
     },
     "execution_count": 82,
     "metadata": {},
     "output_type": "execute_result"
    }
   ],
   "source": [
    "ridge = Ridge(alpha = 0.5)\n",
    "%time ridge.fit(X_train, y_train)\n",
    "ridge.score(X_test, y_test)"
   ]
  },
  {
   "attachments": {},
   "cell_type": "markdown",
   "metadata": {},
   "source": [
    "Ridge Regresyon modeli başarı oranı hesaplama"
   ]
  },
  {
   "attachments": {},
   "cell_type": "markdown",
   "metadata": {},
   "source": [
    "Hangi regresyon modelini kullanacağımıza karar vermek için regresyon türlerinin başarı oranlarını hesaplıyoruz. Ridge Regresyon Modeli daha başarılı olduğu için bu regresyon modelini kullanmayı tercih ediyoruz."
   ]
  },
  {
   "cell_type": "code",
   "execution_count": 83,
   "metadata": {},
   "outputs": [
    {
     "name": "stdout",
     "output_type": "stream",
     "text": [
      "[3.25651359 1.95175723 2.87980856 4.16260306 2.90062506 2.88036224\n",
      " 2.85382205]\n"
     ]
    }
   ],
   "source": [
    "y_pred = ridge.predict(X_test)\n",
    "print(y_pred)"
   ]
  },
  {
   "attachments": {},
   "cell_type": "markdown",
   "metadata": {},
   "source": [
    "7 tane tahmin noktası oluşturduk."
   ]
  },
  {
   "cell_type": "code",
   "execution_count": 84,
   "metadata": {},
   "outputs": [
    {
     "data": {
      "image/png": "[encoded data removed]",
      "text/plain": [
       "<Figure size 432x288 with 1 Axes>"
      ]
     },
     "metadata": {},
     "output_type": "display_data"
    }
   ],
   "source": [
    "x = y_test\n",
    "y = y_pred\n",
    "\n",
    "plt.title('Ridge Regression Model', fontsize = 15, color = 'g', pad = 12)\n",
    "plt.plot(x, y, 'o', color = 'r')\n",
    "\n",
    "m, b = np.polyfit(x, y, 1)\n",
    "plt.plot(x, m * x + b, color = 'darkblue')\n",
    "plt.xlabel('Actual')\n",
    "plt.ylabel('Predicted')\n",
    "plt.show()"
   ]
  },
  {
   "attachments": {},
   "cell_type": "markdown",
   "metadata": {},
   "source": [
    "Bu tahmin modelimizi grafikte gösterdik. Tahmin noktalarımız olan kırmızı noktaların gerçek değerlere olan uzaklığını görebiliyoruz."
   ]
  },
  {
   "attachments": {},
   "cell_type": "markdown",
   "metadata": {},
   "source": [
    "<b> HATA PAYI </b>"
   ]
  },
  {
   "cell_type": "code",
   "execution_count": 85,
   "metadata": {},
   "outputs": [
    {
     "name": "stdout",
     "output_type": "stream",
     "text": [
      "Mean Absolute Error : 0.18313961879927115\n",
      "Mean Squared Error : 0.03942183314744423\n",
      "Root Mean Squared Error : 0.19854932169978376\n"
     ]
    }
   ],
   "source": [
    "print('Mean Absolute Error :', metrics.mean_absolute_error(y_test, y_pred))\n",
    "print('Mean Squared Error :', metrics.mean_squared_error(y_test, y_pred))\n",
    "print('Root Mean Squared Error :', math.sqrt(metrics.mean_squared_error(y_test, y_pred)))"
   ]
  },
  {
   "attachments": {},
   "cell_type": "markdown",
   "metadata": {},
   "source": [
    "Hata payımızı hesaplıyoruz ve bu oranlar düşük olduğundan iyi bir sonuç elde ettiğimizi varsayıyoruz."
   ]
  },
  {
   "attachments": {},
   "cell_type": "markdown",
   "metadata": {},
   "source": [
    "<b> BİR BAŞKA VERİ SETİNE GENEL BAKIŞ </b>"
   ]
  },
  {
   "cell_type": "code",
   "execution_count": 86,
   "metadata": {},
   "outputs": [],
   "source": [
    "fifa2 = pd.read_csv('fifa2.csv')"
   ]
  },
  {
   "attachments": {},
   "cell_type": "markdown",
   "metadata": {},
   "source": [
    "Bir başka veri setini projemize dahil ediyoruz."
   ]
  },
  {
   "cell_type": "code",
   "execution_count": 87,
   "metadata": {},
   "outputs": [
    {
     "data": {
      "text/html": [
       "<div>\n",
       "<style scoped>\n",
       "    .dataframe tbody tr th:only-of-type {\n",
       "        vertical-align: middle;\n",
       "    }\n",
       "\n",
       "    .dataframe tbody tr th {\n",
       "        vertical-align: top;\n",
       "    }\n",
       "\n",
       "    .dataframe thead th {\n",
       "        text-align: right;\n",
       "    }\n",
       "</style>\n",
       "<table border=\"1\" class=\"dataframe\">\n",
       "  <thead>\n",
       "    <tr style=\"text-align: right;\">\n",
       "      <th></th>\n",
       "      <th>Position</th>\n",
       "      <th>Games Played</th>\n",
       "      <th>Win</th>\n",
       "      <th>Draw</th>\n",
       "      <th>Loss</th>\n",
       "      <th>Goals For</th>\n",
       "      <th>Goals Against</th>\n",
       "      <th>Points</th>\n",
       "      <th>Win Percentage</th>\n",
       "      <th>Countries</th>\n",
       "      <th>Continents</th>\n",
       "    </tr>\n",
       "  </thead>\n",
       "  <tbody>\n",
       "    <tr>\n",
       "      <th>0</th>\n",
       "      <td>77</td>\n",
       "      <td>13</td>\n",
       "      <td>3</td>\n",
       "      <td>3</td>\n",
       "      <td>7</td>\n",
       "      <td>13</td>\n",
       "      <td>19</td>\n",
       "      <td>10</td>\n",
       "      <td>23.076923</td>\n",
       "      <td>Algeria</td>\n",
       "      <td>Africa</td>\n",
       "    </tr>\n",
       "    <tr>\n",
       "      <th>1</th>\n",
       "      <td>23</td>\n",
       "      <td>3</td>\n",
       "      <td>0</td>\n",
       "      <td>2</td>\n",
       "      <td>1</td>\n",
       "      <td>1</td>\n",
       "      <td>2</td>\n",
       "      <td>2</td>\n",
       "      <td>0.000000</td>\n",
       "      <td>Angola</td>\n",
       "      <td>Africa</td>\n",
       "    </tr>\n",
       "    <tr>\n",
       "      <th>2</th>\n",
       "      <td>124</td>\n",
       "      <td>81</td>\n",
       "      <td>43</td>\n",
       "      <td>15</td>\n",
       "      <td>23</td>\n",
       "      <td>137</td>\n",
       "      <td>93</td>\n",
       "      <td>120</td>\n",
       "      <td>53.086420</td>\n",
       "      <td>Argentina</td>\n",
       "      <td>South America</td>\n",
       "    </tr>\n",
       "    <tr>\n",
       "      <th>3</th>\n",
       "      <td>108</td>\n",
       "      <td>16</td>\n",
       "      <td>2</td>\n",
       "      <td>4</td>\n",
       "      <td>10</td>\n",
       "      <td>13</td>\n",
       "      <td>31</td>\n",
       "      <td>10</td>\n",
       "      <td>12.500000</td>\n",
       "      <td>Australia</td>\n",
       "      <td>Asia</td>\n",
       "    </tr>\n",
       "    <tr>\n",
       "      <th>4</th>\n",
       "      <td>78</td>\n",
       "      <td>29</td>\n",
       "      <td>12</td>\n",
       "      <td>4</td>\n",
       "      <td>13</td>\n",
       "      <td>43</td>\n",
       "      <td>47</td>\n",
       "      <td>28</td>\n",
       "      <td>41.379310</td>\n",
       "      <td>Austria</td>\n",
       "      <td>Europe</td>\n",
       "    </tr>\n",
       "  </tbody>\n",
       "</table>\n",
       "</div>"
      ],
      "text/plain": [
       "   Position  Games Played  Win  Draw  Loss  Goals For  Goals Against  Points  \\\n",
       "0        77            13    3     3     7         13             19      10   \n",
       "1        23             3    0     2     1          1              2       2   \n",
       "2       124            81   43    15    23        137             93     120   \n",
       "3       108            16    2     4    10         13             31      10   \n",
       "4        78            29   12     4    13         43             47      28   \n",
       "\n",
       "   Win Percentage  Countries     Continents  \n",
       "0       23.076923    Algeria         Africa  \n",
       "1        0.000000     Angola         Africa  \n",
       "2       53.086420  Argentina  South America  \n",
       "3       12.500000  Australia           Asia  \n",
       "4       41.379310    Austria         Europe  "
      ]
     },
     "execution_count": 87,
     "metadata": {},
     "output_type": "execute_result"
    }
   ],
   "source": [
    "fifa2.head()"
   ]
  },
  {
   "attachments": {},
   "cell_type": "markdown",
   "metadata": {},
   "source": [
    "Yine head() fonksiyonunu kullanarak ilk 5 verimizi yazdırdık."
   ]
  },
  {
   "cell_type": "code",
   "execution_count": 88,
   "metadata": {},
   "outputs": [],
   "source": [
    "africa = fifa2.loc[fifa2['Continents']=='Africa'].count()[0]\n",
    "europe = fifa2.loc[fifa2['Continents']=='Europe'].count()[0]\n",
    "south_america = fifa2.loc[fifa2['Continents']=='South America'].count()[0]\n",
    "north_america = fifa2.loc[fifa2['Continents']=='North America'].count()[0]\n",
    "asia = fifa2.loc[fifa2['Continents']=='Asia'].count()[0]"
   ]
  },
  {
   "attachments": {},
   "cell_type": "markdown",
   "metadata": {},
   "source": [
    "Kıtaların katılım oranlarını hesaplayabilmek için veri setimizde \"Continents\" sütununda bulunan kıtaları saydırdık."
   ]
  },
  {
   "cell_type": "code",
   "execution_count": 89,
   "metadata": {},
   "outputs": [
    {
     "data": {
      "image/png": "[encoded data removed]",
      "text/plain": [
       "<Figure size 800x800 with 1 Axes>"
      ]
     },
     "metadata": {},
     "output_type": "display_data"
    }
   ],
   "source": [
    "continents = [africa, europe, south_america, north_america, asia]\n",
    "labels = ['Africa', 'Europe', 'South America', 'North America', 'Asia']\n",
    "plt.figure(figsize=(8,8), dpi=100)\n",
    "explode =(.2,0,.2,0,0)\n",
    "plt.pie(continents,labels=labels,autopct='%.2f %%',pctdistance=0.8,explode=explode, textprops={'color':\"w\"})\n",
    "plt.title('Participation Distribution of Continents in the World Cup Since 1930 ')\n",
    "plt.show()\n"
   ]
  },
  {
   "attachments": {},
   "cell_type": "markdown",
   "metadata": {},
   "source": [
    "Saydırdığımız kıtaları pasta grafiği ile yazdırdık. Böylece Dünya Kupasına katılan takımların daha çok hangi kıtada yer aldıklarını gördük."
   ]
  },
  {
   "cell_type": "code",
   "execution_count": 90,
   "metadata": {},
   "outputs": [
    {
     "data": {
      "image/png": "[encoded data removed]",
      "text/plain": [
       "<Figure size 1000x600 with 1 Axes>"
      ]
     },
     "metadata": {},
     "output_type": "display_data"
    }
   ],
   "source": [
    "africa = fifa2.loc[fifa2['Continents']=='Africa']['Points']\n",
    "europe = fifa2.loc[fifa2['Continents']=='Europe']['Points']\n",
    "south_america = fifa2.loc[fifa2['Continents']=='South America']['Points']\n",
    "north_america = fifa2.loc[fifa2['Continents']=='North America']['Points']\n",
    "asia = fifa2.loc[fifa2['Continents']=='Asia']['Points']\n",
    "labels = ['Africa', 'Europe', 'South America', 'North America', 'Asia']\n",
    "\n",
    "plt.figure(figsize=(10,6),dpi=100)\n",
    "plt.style.use('ggplot')\n",
    "boxes = plt.boxplot([africa,europe,south_america,north_america,asia],labels=labels,)\n",
    "plt.xlabel('Continents')\n",
    "plt.ylabel('Overall Points for all WCs')\n",
    "plt.title('Points Accumulated by Countries in Different Continents in the WC since 1930')\n",
    "plt.show()"
   ]
  },
  {
   "attachments": {},
   "cell_type": "markdown",
   "metadata": {},
   "source": [
    "Düşük katılım oranına sahip olmasına rağmen Güney Amerika ülkeleri 1930'dan beri WC'de diğer kıtalara göre daha iyi performans göstermiştir."
   ]
  },
  {
   "cell_type": "markdown",
   "metadata": {},
   "source": []
  }
 ],
 "metadata": {
  "kernelspec": {
   "display_name": "base",
   "language": "python",
   "name": "python3"
  },
  "language_info": {
   "codemirror_mode": {
    "name": "ipython",
    "version": 3
   },
   "file_extension": ".py",
   "mimetype": "text/x-python",
   "name": "python",
   "nbconvert_exporter": "python",
   "pygments_lexer": "ipython3",
   "version": "3.9.12"
  },
  "orig_nbformat": 4,
  "vscode": {
   "interpreter": {
    "hash": "3453f229ee28ceab7a74107e85b45fc2609c944627ed29e3d641912826ec46d8"
   }
  }
 },
 "nbformat": 4,
 "nbformat_minor": 2
}
